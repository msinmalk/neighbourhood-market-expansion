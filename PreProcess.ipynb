{
 "cells": [
  {
   "cell_type": "code",
   "execution_count": 2,
   "id": "9f56487d",
   "metadata": {},
   "outputs": [
    {
     "data": {
      "text/plain": [
       "['Exhibit 6 Probability of Custom',\n",
       " 'Exhibit 9 Selected Financials 2',\n",
       " 'Employment and Store Metrics',\n",
       " 'Exhibit 12 Walmart vs. Amazon P',\n",
       " 'Exhibit 14 Walmart vs. Amazon C',\n",
       " 'Exhibit 15 Walmart Allocation o']"
      ]
     },
     "execution_count": 2,
     "metadata": {},
     "output_type": "execute_result"
    }
   ],
   "source": [
    "from openpyxl import load_workbook\n",
    "\n",
    "# Load the workbook\n",
    "workbook = load_workbook(filename='/Users/myself/Desktop/walmartCaseData.xlsx', data_only=True)\n",
    "\n",
    "# List all sheet names\n",
    "sheet_names = workbook.sheetnames\n",
    "sheet_names\n"
   ]
  },
  {
   "cell_type": "code",
   "execution_count": 3,
   "id": "39d00f22",
   "metadata": {},
   "outputs": [
    {
     "data": {
      "text/plain": [
       "{'Exhibit 6 Probability of Custom': ['Store Distance (miles)',\n",
       "  'Population Density 1 (thousands)',\n",
       "  'Population Density 5 (thousands)',\n",
       "  'Population Density 10 (thousands)',\n",
       "  'Population Density 20 (thousands)',\n",
       "  'Population Density 50 (thousands)',\n",
       "  'Population Density 100 (thousands)',\n",
       "  'Population Density 250 (thousands)'],\n",
       " 'Exhibit 9 Selected Financials 2': ['Metric',\n",
       "  'Walmart',\n",
       "  'Target',\n",
       "  'Dollar General',\n",
       "  'Kroger'],\n",
       " 'Employment and Store Metrics': ['Metric',\n",
       "  'Walmart',\n",
       "  'Target',\n",
       "  'Dollar General',\n",
       "  'Kroger'],\n",
       " 'Exhibit 12 Walmart vs. Amazon P': ['Metric', 'Walmart.com', 'Amazon'],\n",
       " 'Exhibit 14 Walmart vs. Amazon C': ['Category',\n",
       "  'Amazon $',\n",
       "  'Amazon %',\n",
       "  'Walmart $',\n",
       "  'Walmart %'],\n",
       " 'Exhibit 15 Walmart Allocation o': ['Category',\n",
       "  '2020 ($ millions)',\n",
       "  '2019 ($ millions)']}"
      ]
     },
     "execution_count": 3,
     "metadata": {},
     "output_type": "execute_result"
    }
   ],
   "source": [
    "import pandas as pd\n",
    "\n",
    "# Load each sheet into a DataFrame\n",
    "dfs = {sheet: pd.read_excel('/Users/myself/Desktop/walmartCaseData.xlsx', sheet_name=sheet) for sheet in sheet_names}\n",
    "\n",
    "# Display the column names for each DataFrame\n",
    "column_names = {sheet: list(df.columns) for sheet, df in dfs.items()}\n",
    "column_names\n"
   ]
  },
  {
   "cell_type": "code",
   "execution_count": 8,
   "id": "f857d183",
   "metadata": {},
   "outputs": [
    {
     "data": {
      "text/plain": [
       "{('Store Distance (miles)', 'population_density'): 0.5665388107299805,\n",
       " ('Store Distance (miles)', 'income_per_capita'): 0.5849781632423401,\n",
       " ('Population Density 1 (thousands)',\n",
       "  'population_density'): 0.7867864966392517,\n",
       " ('Population Density 1 (thousands)', 'income_per_capita'): 0.6690823435783386,\n",
       " ('Population Density 5 (thousands)',\n",
       "  'population_density'): 0.7854726314544678,\n",
       " ('Population Density 5 (thousands)', 'income_per_capita'): 0.6524317860603333,\n",
       " ('Population Density 10 (thousands)',\n",
       "  'population_density'): 0.7861742377281189,\n",
       " ('Population Density 10 (thousands)',\n",
       "  'income_per_capita'): 0.6583580374717712,\n",
       " ('Population Density 20 (thousands)',\n",
       "  'population_density'): 0.775789737701416,\n",
       " ('Population Density 20 (thousands)',\n",
       "  'income_per_capita'): 0.6480918526649475,\n",
       " ('Population Density 50 (thousands)',\n",
       "  'population_density'): 0.7724123597145081,\n",
       " ('Population Density 50 (thousands)',\n",
       "  'income_per_capita'): 0.6379535794258118,\n",
       " ('Population Density 100 (thousands)',\n",
       "  'population_density'): 0.7818359732627869,\n",
       " ('Population Density 100 (thousands)',\n",
       "  'income_per_capita'): 0.6495940089225769,\n",
       " ('Population Density 250 (thousands)',\n",
       "  'population_density'): 0.7638936042785645,\n",
       " ('Population Density 250 (thousands)',\n",
       "  'income_per_capita'): 0.6269773840904236,\n",
       " ('Metric', 'population_density'): 0.6151923537254333,\n",
       " ('Metric', 'income_per_capita'): 0.5211520195007324,\n",
       " ('Walmart', 'population_density'): 0.4629793167114258,\n",
       " ('Walmart', 'income_per_capita'): 0.4588511884212494,\n",
       " ('Target', 'population_density'): 0.49526745080947876,\n",
       " ('Target', 'income_per_capita'): 0.45751067996025085,\n",
       " ('Dollar General', 'population_density'): 0.5113224983215332,\n",
       " ('Dollar General', 'income_per_capita'): 0.4953495264053345,\n",
       " ('Kroger', 'population_density'): 0.4013921618461609,\n",
       " ('Kroger', 'income_per_capita'): 0.3856152892112732,\n",
       " ('Walmart.com', 'population_density'): 0.4469134509563446,\n",
       " ('Walmart.com', 'income_per_capita'): 0.47043201327323914,\n",
       " ('Amazon', 'population_density'): 0.5340837240219116,\n",
       " ('Amazon', 'income_per_capita'): 0.46910396218299866,\n",
       " ('Category', 'population_density'): 0.578738808631897,\n",
       " ('Category', 'income_per_capita'): 0.5035809278488159,\n",
       " ('Amazon $', 'population_density'): 0.5178415775299072,\n",
       " ('Amazon $', 'income_per_capita'): 0.45696917176246643,\n",
       " ('Amazon %', 'population_density'): 0.5414297580718994,\n",
       " ('Amazon %', 'income_per_capita'): 0.46179795265197754,\n",
       " ('Walmart $', 'population_density'): 0.4849759340286255,\n",
       " ('Walmart $', 'income_per_capita'): 0.4584988057613373,\n",
       " ('Walmart %', 'population_density'): 0.513042151927948,\n",
       " ('Walmart %', 'income_per_capita'): 0.47943830490112305,\n",
       " ('2020 ($ millions)', 'population_density'): 0.5207062363624573,\n",
       " ('2020 ($ millions)', 'income_per_capita'): 0.5488069653511047,\n",
       " ('2019 ($ millions)', 'population_density'): 0.5104053616523743,\n",
       " ('2019 ($ millions)', 'income_per_capita'): 0.5620284676551819}"
      ]
     },
     "execution_count": 8,
     "metadata": {},
     "output_type": "execute_result"
    }
   ],
   "source": [
    "from transformers import BertModel, BertTokenizer\n",
    "import torch\n",
    "from scipy.spatial.distance import cosine\n",
    "\n",
    "# Initialize BERT model and tokenizer\n",
    "tokenizer = BertTokenizer.from_pretrained('bert-base-uncased')\n",
    "model = BertModel.from_pretrained('bert-base-uncased')\n",
    "\n",
    "# Target field names and their embeddings\n",
    "target_fields = ['population_density', 'income_per_capita']\n",
    "target_embeddings = {field: generate_embeddings(field) for field in target_fields}\n",
    "\n",
    "# Flatten the list of column names to generate their embeddings\n",
    "all_column_names = [column for sublist in column_names.values() for column in sublist]\n",
    "column_embeddings = {column: generate_embeddings(column) for column in all_column_names}\n",
    "\n",
    "# Calculate cosine similarity between each column and target field\n",
    "similarity_scores = {}\n",
    "\n",
    "for column, column_embedding in column_embeddings.items():\n",
    "    for target_field, target_embedding in target_embeddings.items():\n",
    "        similarity = calculate_cosine_similarity(column_embedding, target_embedding)\n",
    "        similarity_scores[(column, target_field)] = similarity\n",
    "\n",
    "similarity_scores\n"
   ]
  },
  {
   "cell_type": "code",
   "execution_count": 9,
   "id": "e758af6d",
   "metadata": {},
   "outputs": [
    {
     "name": "stdout",
     "output_type": "stream",
     "text": [
      "Cosine Similarity: 0.972713828086853\n"
     ]
    }
   ],
   "source": [
    "import numpy as np\n",
    "\n",
    "# Assuming 'generate_embeddings' is your function to get embeddings\n",
    "def generate_embeddings(text):\n",
    "    inputs = tokenizer(text, return_tensors='pt', padding=True, truncation=True, max_length=512)\n",
    "    outputs = model(**inputs)\n",
    "    # Detach the tensor from the graph, and then convert it to a numpy array\n",
    "    return outputs.last_hidden_state.mean(dim=1).detach().numpy()\n",
    "\n",
    "# Adjust the cosine similarity calculation to check for any shape issues:\n",
    "def calculate_cosine_similarity(embedding1, embedding2):\n",
    "    # Ensure both embeddings are 1-D\n",
    "    embedding1 = np.squeeze(embedding1)\n",
    "    embedding2 = np.squeeze(embedding2)\n",
    "    return 1 - cosine(embedding1, embedding2)\n",
    "\n",
    "# Example usage with checks\n",
    "try:\n",
    "    emb1 = generate_embeddings(\"example text 1\")\n",
    "    emb2 = generate_embeddings(\"example text 2\")\n",
    "    similarity = calculate_cosine_similarity(emb1, emb2)\n",
    "    print(\"Cosine Similarity:\", similarity)\n",
    "except Exception as e:\n",
    "    print(\"Error:\", e)\n"
   ]
  },
  {
   "cell_type": "code",
   "execution_count": 10,
   "id": "01c1bf6c-29d8-43e0-b772-1840f5995ce6",
   "metadata": {},
   "outputs": [
    {
     "data": {
      "text/plain": [
       "{('Store Distance (miles)', 'population_density'): 0.5665388107299805,\n",
       " ('Store Distance (miles)', 'income_per_capita'): 0.5849781632423401,\n",
       " ('Population Density 1 (thousands)',\n",
       "  'population_density'): 0.7867864966392517,\n",
       " ('Population Density 1 (thousands)', 'income_per_capita'): 0.6690823435783386,\n",
       " ('Population Density 5 (thousands)',\n",
       "  'population_density'): 0.7854726314544678,\n",
       " ('Population Density 5 (thousands)', 'income_per_capita'): 0.6524317860603333,\n",
       " ('Population Density 10 (thousands)',\n",
       "  'population_density'): 0.7861742377281189,\n",
       " ('Population Density 10 (thousands)',\n",
       "  'income_per_capita'): 0.6583580374717712,\n",
       " ('Population Density 20 (thousands)',\n",
       "  'population_density'): 0.775789737701416,\n",
       " ('Population Density 20 (thousands)',\n",
       "  'income_per_capita'): 0.6480918526649475,\n",
       " ('Population Density 50 (thousands)',\n",
       "  'population_density'): 0.7724123597145081,\n",
       " ('Population Density 50 (thousands)',\n",
       "  'income_per_capita'): 0.6379535794258118,\n",
       " ('Population Density 100 (thousands)',\n",
       "  'population_density'): 0.7818359732627869,\n",
       " ('Population Density 100 (thousands)',\n",
       "  'income_per_capita'): 0.6495940089225769,\n",
       " ('Population Density 250 (thousands)',\n",
       "  'population_density'): 0.7638936042785645,\n",
       " ('Population Density 250 (thousands)',\n",
       "  'income_per_capita'): 0.6269773840904236,\n",
       " ('Metric', 'population_density'): 0.6151923537254333,\n",
       " ('Metric', 'income_per_capita'): 0.5211520195007324,\n",
       " ('Walmart', 'population_density'): 0.4629793167114258,\n",
       " ('Walmart', 'income_per_capita'): 0.4588511884212494,\n",
       " ('Target', 'population_density'): 0.49526745080947876,\n",
       " ('Target', 'income_per_capita'): 0.45751067996025085,\n",
       " ('Dollar General', 'population_density'): 0.5113224983215332,\n",
       " ('Dollar General', 'income_per_capita'): 0.4953495264053345,\n",
       " ('Kroger', 'population_density'): 0.4013921618461609,\n",
       " ('Kroger', 'income_per_capita'): 0.3856152892112732,\n",
       " ('Walmart.com', 'population_density'): 0.4469134509563446,\n",
       " ('Walmart.com', 'income_per_capita'): 0.47043201327323914,\n",
       " ('Amazon', 'population_density'): 0.5340837240219116,\n",
       " ('Amazon', 'income_per_capita'): 0.46910396218299866,\n",
       " ('Category', 'population_density'): 0.578738808631897,\n",
       " ('Category', 'income_per_capita'): 0.5035809278488159,\n",
       " ('Amazon $', 'population_density'): 0.5178415775299072,\n",
       " ('Amazon $', 'income_per_capita'): 0.45696917176246643,\n",
       " ('Amazon %', 'population_density'): 0.5414297580718994,\n",
       " ('Amazon %', 'income_per_capita'): 0.46179795265197754,\n",
       " ('Walmart $', 'population_density'): 0.4849759340286255,\n",
       " ('Walmart $', 'income_per_capita'): 0.4584988057613373,\n",
       " ('Walmart %', 'population_density'): 0.513042151927948,\n",
       " ('Walmart %', 'income_per_capita'): 0.47943830490112305,\n",
       " ('2020 ($ millions)', 'population_density'): 0.5207062363624573,\n",
       " ('2020 ($ millions)', 'income_per_capita'): 0.5488069653511047,\n",
       " ('2019 ($ millions)', 'population_density'): 0.5104053616523743,\n",
       " ('2019 ($ millions)', 'income_per_capita'): 0.5620284676551819}"
      ]
     },
     "execution_count": 10,
     "metadata": {},
     "output_type": "execute_result"
    }
   ],
   "source": [
    "\n",
    "# Calculate cosine similarity between each column and target field\n",
    "similarity_scores = {}\n",
    "\n",
    "for column, column_embedding in column_embeddings.items():\n",
    "    for target_field, target_embedding in target_embeddings.items():\n",
    "        similarity = calculate_cosine_similarity(column_embedding, target_embedding)\n",
    "        similarity_scores[(column, target_field)] = similarity\n",
    "\n",
    "similarity_scores\n"
   ]
  },
  {
   "cell_type": "code",
   "execution_count": null,
   "id": "8ddcaff0-18d7-4c69-a296-904a9b117dc0",
   "metadata": {},
   "outputs": [],
   "source": []
  }
 ],
 "metadata": {
  "kernelspec": {
   "display_name": "Python (myenv)",
   "language": "python",
   "name": "myenv"
  },
  "language_info": {
   "codemirror_mode": {
    "name": "ipython",
    "version": 3
   },
   "file_extension": ".py",
   "mimetype": "text/x-python",
   "name": "python",
   "nbconvert_exporter": "python",
   "pygments_lexer": "ipython3",
   "version": "3.8.19"
  }
 },
 "nbformat": 4,
 "nbformat_minor": 5
}
