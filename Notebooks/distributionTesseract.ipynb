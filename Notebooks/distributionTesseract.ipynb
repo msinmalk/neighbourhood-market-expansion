{
 "cells": [
  {
   "cell_type": "code",
   "execution_count": 4,
   "id": "c38f0e43-7200-4a75-a601-e8fa81489590",
   "metadata": {},
   "outputs": [
    {
     "data": {
      "text/plain": [
       "\"D Square Year\\n\\nNumber Feet Opened\\n6051/ [1110 SE. 10th, Bentonville, Fashion DC constructed in 1986 as\\nArkansas 4751 |Arkansas, 72716 640,000) 1986 | Walmart's 1th DC.\\nRegional DC opened in 1970 at 60KSF;\\n702 Southwest 8th Street, expanded to 124800 in Aug 71; expanded\\nArkansas 6004 /Bentomille, Arkansas, 72712 236,800) 1870 | +5 236800 in 1972; Converted into ofce\\nspace in 1986.\\nOriginally a redistribution facility\\nconstructed for 160KSF. This was the\\n11102 SE Sth St, Bentonville, January, | 2n\""
      ]
     },
     "execution_count": 4,
     "metadata": {},
     "output_type": "execute_result"
    }
   ],
   "source": [
    "# Open the first TIFF file using PIL and attempt to extract text using pytesseract\n",
    "from PIL import Image\n",
    "import pytesseract\n",
    "\n",
    "img_path_1 = '/Users/myself/Desktop/Walmart USA Serching for Growth/DistributionPNGS/Walmart-U.S.A.tiff'\n",
    "\n",
    "# Open the image file\n",
    "img_1 = Image.open(img_path_1)\n",
    "\n",
    "# Use tesseract to do OCR on the image\n",
    "text_1 = pytesseract.image_to_string(img_1)\n",
    "\n",
    "# Showing the first 500 characters of the extracted text to verify correct extraction\n",
    "text_1[:500]\n"
   ]
  },
  {
   "cell_type": "code",
   "execution_count": null,
   "id": "e4f6792b-fb89-452e-a143-06ac91b799df",
   "metadata": {},
   "outputs": [],
   "source": []
  }
 ],
 "metadata": {
  "kernelspec": {
   "display_name": "Python (myenv)",
   "language": "python",
   "name": "myenv"
  },
  "language_info": {
   "codemirror_mode": {
    "name": "ipython",
    "version": 3
   },
   "file_extension": ".py",
   "mimetype": "text/x-python",
   "name": "python",
   "nbconvert_exporter": "python",
   "pygments_lexer": "ipython3",
   "version": "3.8.19"
  }
 },
 "nbformat": 4,
 "nbformat_minor": 5
}
