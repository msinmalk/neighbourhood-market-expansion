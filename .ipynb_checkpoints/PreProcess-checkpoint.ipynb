{
 "cells": [
  {
   "cell_type": "code",
   "execution_count": 1,
   "id": "9f56487d",
   "metadata": {},
   "outputs": [
    {
     "data": {
      "text/plain": [
       "['Exhibit 6 Probability of Custom',\n",
       " 'Exhibit 9 Selected Financials 2',\n",
       " 'Employment and Store Metrics',\n",
       " 'Exhibit 12 Walmart vs. Amazon P',\n",
       " 'Exhibit 14 Walmart vs. Amazon C',\n",
       " 'Exhibit 15 Walmart Allocation o']"
      ]
     },
     "execution_count": 1,
     "metadata": {},
     "output_type": "execute_result"
    }
   ],
   "source": [
    "from openpyxl import load_workbook\n",
    "\n",
    "# Load the workbook\n",
    "workbook = load_workbook(filename='/Users/myself/Desktop/walmartCaseData.xlsx', data_only=True)\n",
    "\n",
    "# List all sheet names\n",
    "sheet_names = workbook.sheetnames\n",
    "sheet_names\n"
   ]
  },
  {
   "cell_type": "code",
   "execution_count": 2,
   "id": "39d00f22",
   "metadata": {},
   "outputs": [
    {
     "data": {
      "text/plain": [
       "{'Exhibit 6 Probability of Custom': ['Store Distance (miles)',\n",
       "  'Population Density 1 (thousands)',\n",
       "  'Population Density 5 (thousands)',\n",
       "  'Population Density 10 (thousands)',\n",
       "  'Population Density 20 (thousands)',\n",
       "  'Population Density 50 (thousands)',\n",
       "  'Population Density 100 (thousands)',\n",
       "  'Population Density 250 (thousands)'],\n",
       " 'Exhibit 9 Selected Financials 2': ['Metric',\n",
       "  'Walmart',\n",
       "  'Target',\n",
       "  'Dollar General',\n",
       "  'Kroger'],\n",
       " 'Employment and Store Metrics': ['Metric',\n",
       "  'Walmart',\n",
       "  'Target',\n",
       "  'Dollar General',\n",
       "  'Kroger'],\n",
       " 'Exhibit 12 Walmart vs. Amazon P': ['Metric', 'Walmart.com', 'Amazon'],\n",
       " 'Exhibit 14 Walmart vs. Amazon C': ['Category',\n",
       "  'Amazon $',\n",
       "  'Amazon %',\n",
       "  'Walmart $',\n",
       "  'Walmart %'],\n",
       " 'Exhibit 15 Walmart Allocation o': ['Category',\n",
       "  '2020 ($ millions)',\n",
       "  '2019 ($ millions)']}"
      ]
     },
     "execution_count": 2,
     "metadata": {},
     "output_type": "execute_result"
    }
   ],
   "source": [
    "import pandas as pd\n",
    "\n",
    "# Load each sheet into a DataFrame\n",
    "dfs = {sheet: pd.read_excel('/Users/myself/Desktop/walmartCaseData.xlsx', sheet_name=sheet) for sheet in sheet_names}\n",
    "\n",
    "# Display the column names for each DataFrame\n",
    "column_names = {sheet: list(df.columns) for sheet, df in dfs.items()}\n",
    "column_names\n"
   ]
  },
  {
   "cell_type": "code",
   "execution_count": null,
   "id": "f857d183",
   "metadata": {},
   "outputs": [],
   "source": [
    "from transformers import BertModel, BertTokenizer\n",
    "import torch\n",
    "from scipy.spatial.distance import cosine\n",
    "\n",
    "# Initialize BERT model and tokenizer\n",
    "tokenizer = BertTokenizer.from_pretrained('bert-base-uncased')\n",
    "model = BertModel.from_pretrained('bert-base-uncased')\n",
    "\n",
    "# Function to generate embeddings for text\n",
    "def generate_embeddings(text):\n",
    "    inputs = tokenizer(text, return_tensors='pt', padding=True, truncation=True, max_length=512)\n",
    "    outputs = model(**inputs)\n",
    "    return outputs.last_hidden_state.mean(dim=1).detach().numpy()\n",
    "\n",
    "# Target field names and their embeddings\n",
    "target_fields = ['population_density', 'income_per_capita']\n",
    "target_embeddings = {field: generate_embeddings(field) for field in target_fields}\n",
    "\n",
    "# Flatten the list of column names to generate their embeddings\n",
    "all_column_names = [column for sublist in column_names.values() for column in sublist]\n",
    "column_embeddings = {column: generate_embeddings(column) for column in all_column_names}\n",
    "\n",
    "# Function to calculate cosine similarity\n",
    "def calculate_cosine_similarity(embedding1, embedding2):\n",
    "    return 1 - cosine(embedding1, embedding2)\n",
    "\n",
    "# Calculate cosine similarity between each column and target field\n",
    "similarity_scores = {}\n",
    "\n",
    "for column, column_embedding in column_embeddings.items():\n",
    "    for target_field, target_embedding in target_embeddings.items():\n",
    "        similarity = calculate_cosine_similarity(column_embedding, target_embedding)\n",
    "        similarity_scores[(column, target_field)] = similarity\n",
    "\n",
    "similarity_scores\n"
   ]
  },
  {
   "cell_type": "code",
   "execution_count": null,
   "id": "e758af6d",
   "metadata": {},
   "outputs": [],
   "source": []
  }
 ],
 "metadata": {
  "kernelspec": {
   "display_name": "Python (myenv)",
   "language": "python",
   "name": "myenv"
  },
  "language_info": {
   "codemirror_mode": {
    "name": "ipython",
    "version": 3
   },
   "file_extension": ".py",
   "mimetype": "text/x-python",
   "name": "python",
   "nbconvert_exporter": "python",
   "pygments_lexer": "ipython3",
   "version": "3.8.19"
  }
 },
 "nbformat": 4,
 "nbformat_minor": 5
}
