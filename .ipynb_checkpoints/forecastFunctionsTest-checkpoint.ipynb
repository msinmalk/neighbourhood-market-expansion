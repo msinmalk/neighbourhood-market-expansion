{
 "cells": [
  {
   "cell_type": "code",
   "execution_count": 1,
   "id": "f43e7e41-2dc7-43ea-b9d2-f4b974a6d7a7",
   "metadata": {},
   "outputs": [],
   "source": [
    "from improved_find_data_start_row import *\n",
    "from financials_clean_year_assign import * \n",
    "import expertForecastFunctionsCopy1 as ff\n",
    "\n",
    "\n"
   ]
  },
  {
   "cell_type": "code",
   "execution_count": 2,
   "id": "4e1eaf6b-0d64-45ab-8805-3f37baf77fe3",
   "metadata": {},
   "outputs": [],
   "source": [
    "financial_data=improved_load_excel_with_autodetect(\"/Users/myself/Desktop/Walmart USA Serching for Growth/walmartHistoricalFinancials.xlsx\")\n",
    "\n",
    "financial_data=clean_cashflow_data(financial_data, 3)\n",
    "financial_data=update_column_names(financial_data, base_year=2021,index_name = 'Financial Metric')\n",
    "\n"
   ]
  },
  {
   "cell_type": "code",
   "execution_count": null,
   "id": "7ee05b65-839a-491f-8ebe-3a8685d37c11",
   "metadata": {},
   "outputs": [],
   "source": []
  },
  {
   "cell_type": "code",
   "execution_count": 11,
   "id": "fe4dbafa-be77-4f53-afb5-9c2bd0aa8d8f",
   "metadata": {},
   "outputs": [
    {
     "ename": "IndexError",
     "evalue": "list index out of range",
     "output_type": "error",
     "traceback": [
      "\u001b[0;31m---------------------------------------------------------------------------\u001b[0m",
      "\u001b[0;31mIndexError\u001b[0m                                Traceback (most recent call last)",
      "Cell \u001b[0;32mIn[11], line 24\u001b[0m\n\u001b[1;32m     20\u001b[0m base_year \u001b[38;5;241m=\u001b[39m \u001b[38;5;124m'\u001b[39m\u001b[38;5;124m2021\u001b[39m\u001b[38;5;124m'\u001b[39m\n\u001b[1;32m     21\u001b[0m forecast_years \u001b[38;5;241m=\u001b[39m [\u001b[38;5;124m'\u001b[39m\u001b[38;5;124m2022F\u001b[39m\u001b[38;5;124m'\u001b[39m,\u001b[38;5;124m'\u001b[39m\u001b[38;5;124m2023F\u001b[39m\u001b[38;5;124m'\u001b[39m]\n\u001b[0;32m---> 24\u001b[0m yoy_forecast_df \u001b[38;5;241m=\u001b[39m \u001b[43mff\u001b[49m\u001b[38;5;241;43m.\u001b[39;49m\u001b[43mforecast_financials\u001b[49m\u001b[43m(\u001b[49m\u001b[43mfinancial_data\u001b[49m\u001b[43m,\u001b[49m\u001b[43m \u001b[49m\u001b[43massumptions\u001b[49m\u001b[43m,\u001b[49m\u001b[43m \u001b[49m\u001b[43mbase_year\u001b[49m\u001b[43m,\u001b[49m\u001b[43m \u001b[49m\u001b[43mforecast_years\u001b[49m\u001b[43m)\u001b[49m\n\u001b[1;32m     26\u001b[0m financial_data \u001b[38;5;241m=\u001b[39m ff\u001b[38;5;241m.\u001b[39mhandle_missing_values(financial_data)\n",
      "File \u001b[0;32m~/github/neighbourhood-market-expansion/expertForecastFunctionsCopy1.py:72\u001b[0m, in \u001b[0;36mforecast_financials\u001b[0;34m(df, assumptions, base_year, forecast_years)\u001b[0m\n\u001b[1;32m     70\u001b[0m base_value \u001b[38;5;241m=\u001b[39m last_values\u001b[38;5;241m.\u001b[39mget(metric, \u001b[38;5;28;01mNone\u001b[39;00m)\n\u001b[1;32m     71\u001b[0m \u001b[38;5;28;01mif\u001b[39;00m base_value \u001b[38;5;129;01mis\u001b[39;00m \u001b[38;5;129;01mnot\u001b[39;00m \u001b[38;5;28;01mNone\u001b[39;00m:\n\u001b[0;32m---> 72\u001b[0m     growth_rate \u001b[38;5;241m=\u001b[39m \u001b[43mvalues\u001b[49m\u001b[43m[\u001b[49m\u001b[38;5;124;43m'\u001b[39;49m\u001b[38;5;124;43mrates\u001b[39;49m\u001b[38;5;124;43m'\u001b[39;49m\u001b[43m]\u001b[49m\u001b[43m[\u001b[49m\u001b[38;5;28;43mint\u001b[39;49m\u001b[43m(\u001b[49m\u001b[38;5;124;43m'\u001b[39;49m\u001b[38;5;124;43m'\u001b[39;49m\u001b[38;5;241;43m.\u001b[39;49m\u001b[43mjoin\u001b[49m\u001b[43m(\u001b[49m\u001b[38;5;28;43mfilter\u001b[39;49m\u001b[43m(\u001b[49m\u001b[38;5;28;43mstr\u001b[39;49m\u001b[38;5;241;43m.\u001b[39;49m\u001b[43misdigit\u001b[49m\u001b[43m,\u001b[49m\u001b[43m \u001b[49m\u001b[43myear\u001b[49m\u001b[43m)\u001b[49m\u001b[43m)\u001b[49m\u001b[43m)\u001b[49m\u001b[43m \u001b[49m\u001b[38;5;241;43m-\u001b[39;49m\u001b[43m \u001b[49m\u001b[38;5;28;43mint\u001b[39;49m\u001b[43m(\u001b[49m\u001b[43mbase_year\u001b[49m\u001b[43m)\u001b[49m\u001b[43m \u001b[49m\u001b[38;5;241;43m-\u001b[39;49m\u001b[43m \u001b[49m\u001b[38;5;241;43m1\u001b[39;49m\u001b[43m]\u001b[49m\n\u001b[1;32m     73\u001b[0m     forecast_value \u001b[38;5;241m=\u001b[39m base_value \u001b[38;5;241m*\u001b[39m (\u001b[38;5;241m1\u001b[39m \u001b[38;5;241m+\u001b[39m growth_rate)\n\u001b[1;32m     74\u001b[0m     forecast_df\u001b[38;5;241m.\u001b[39mloc[metric, year] \u001b[38;5;241m=\u001b[39m forecast_value\n",
      "\u001b[0;31mIndexError\u001b[0m: list index out of range"
     ]
    }
   ],
   "source": [
    "categories, base_mapping = ff.categorize_and_map_metrics(financial_data)\n",
    "# assumptions = {\n",
    "#     'Sales': {'type': 'YOY', 'rates': [0.0814, 0.0392, 0.0261, 0.0244, 0.0237, 0.0238]},\n",
    "#     'Costs of goods sold': {'type': '% of revenue', 'rates': [0.7541, 0.7513, 0.7513, 0.7513, 0.7513, 0.7513]},\n",
    "#     'Gross profit': {'type': 'direct', 'rates': None},  # Calculated directly as difference\n",
    "#     'Operating and SG&A costs': {'type': '% of sales', 'rates': [0.1863, 0.1834, 0.1834, 0.1834, 0.1834, 0.1834]}}\n",
    "\n",
    "\n",
    "assumptions = {\n",
    "    'Operating revenue (Turnover)': {'type': 'YOY', 'rates': [0.015,0.015]},\n",
    "    'Gross Profit': {'type': 'YOY', 'rates': [0.014,0.014]},\n",
    "    'EBITDA': {'type': 'YOY', 'rates': [-0.022,-0.022]},\n",
    "    'Cash flow [Net Income before D&A]]': {'type': 'YOY', 'rates': [-0.046,-0.046]},\n",
    "    'Operating profit (loss) [EBIT]': {'type': 'YOY', 'rates': [-0.02,-0.02]},\n",
    "    'Profit (loss) for the period [Net income]': {'type': 'YOY', 'rates': [-0.019,-0.019]}\n",
    "}\n",
    "\n",
    "\n",
    "# Base year for forecast\n",
    "base_year = '2021'\n",
    "forecast_years = ['2022F','2023F']\n",
    "\n",
    "\n",
    "yoy_forecast_df = ff.forecast_financials(financial_data, assumptions, base_year, forecast_years)\n",
    "\n",
    "financial_data = ff.handle_missing_values(financial_data)\n",
    "#yoy_forecast_df, financial_data"
   ]
  },
  {
   "cell_type": "code",
   "execution_count": 12,
   "id": "7d7deaf2-3c12-4e9c-937a-01d40d0e5f9e",
   "metadata": {},
   "outputs": [],
   "source": [
    "historical_regression_forecast = ff.linear_regression_forecast(financial_data, forecast_years)"
   ]
  },
  {
   "cell_type": "code",
   "execution_count": 6,
   "id": "d531af0c-7a34-43cb-80ba-75529ae7141a",
   "metadata": {},
   "outputs": [],
   "source": [
    "future_bases = {base: historical_regression_forecast.loc[base] for base in set(base_mapping.values())}\n",
    "historical_ratios = {metric: financial_data.loc[metric] / financial_data.loc[base] for metric, base in base_mapping.items()}\n",
    "historical_ratios = pd.DataFrame.from_dict(historical_ratios).dropna(axis='columns')\n",
    "\n",
    "forecasts, projected_ratios = ff.calculate_forecasts(historical_ratios, forecast_years, future_bases, base_mapping)"
   ]
  },
  {
   "cell_type": "code",
   "execution_count": 10,
   "id": "da1cfbd0-6331-4140-ba15-57e7842a772e",
   "metadata": {},
   "outputs": [
    {
     "data": {
      "text/plain": [
       "{'Non-current assets': array([132330.83611791642], dtype=object),\n",
       " 'Intangible assets': array([887.652538161743], dtype=object),\n",
       " 'Tangible fixed assets': array([117953.37357135741], dtype=object),\n",
       " 'Other non-current assets': array([13489.810008397304], dtype=object),\n",
       " 'Current assets': array([129104.64821256793], dtype=object),\n",
       " 'Other current assets': array([7589.918840428987], dtype=object),\n",
       " 'Total assets': array([261435.48433048438], dtype=object),\n",
       " 'Net current assets': array([48455.40474381811], dtype=object),\n",
       " 'Shareholders funds': array([102437.39025940982], dtype=object),\n",
       " 'Other shareholders funds': array([100358.71458514701], dtype=object),\n",
       " 'Non-current liabilities': array([78348.85060232476], dtype=object),\n",
       " 'Other non-current liabilities': array([10334.091156257136], dtype=object),\n",
       " 'Current liabilities': array([80649.24346874985], dtype=object),\n",
       " 'Other current liabilities': array([27820.120452175735], dtype=object),\n",
       " \"Total shareholders' funds and liabilities\": array([261435.48433048438], dtype=object),\n",
       " 'Operating revenue (Turnover)': array([607578.6884309272], dtype=object),\n",
       " 'Sales': array([606581.823361824], dtype=object),\n",
       " 'Gross profit': array([130622.19755846183], dtype=object),\n",
       " 'Operating profit (loss) [EBIT]': array([31991.47866599693], dtype=object),\n",
       " 'Financial profit (loss)': array([-6169.266155915514], dtype=object),\n",
       " 'Financial revenue': array([1153.4064361032927], dtype=object),\n",
       " 'Profit (loss) before tax [PBT]': array([25886.27038802419], dtype=object),\n",
       " 'Profit (loss) after tax [PAT]': array([15756.193126630948], dtype=object),\n",
       " 'Net extraordinary revenues (expenses)': array([-13.845995414419711], dtype=object),\n",
       " 'Profit (loss) for the period [Net income]': array([15711.83834264384], dtype=object)}"
      ]
     },
     "execution_count": 10,
     "metadata": {},
     "output_type": "execute_result"
    }
   ],
   "source": [
    "forecasts"
   ]
  },
  {
   "cell_type": "code",
   "execution_count": 7,
   "id": "259640c4-0274-4330-9ed0-7d1e3dbbb8a3",
   "metadata": {},
   "outputs": [
    {
     "ename": "ValueError",
     "evalue": "too many values to unpack (expected 2)",
     "output_type": "error",
     "traceback": [
      "\u001b[0;31m---------------------------------------------------------------------------\u001b[0m",
      "\u001b[0;31mValueError\u001b[0m                                Traceback (most recent call last)",
      "Cell \u001b[0;32mIn[7], line 1\u001b[0m\n\u001b[0;32m----> 1\u001b[0m result_forecast, result_percentages \u001b[38;5;241m=\u001b[39m \u001b[43mff\u001b[49m\u001b[38;5;241;43m.\u001b[39;49m\u001b[43mratio_forecast_regression\u001b[49m\u001b[43m(\u001b[49m\u001b[43mfinancial_data\u001b[49m\u001b[43m,\u001b[49m\u001b[43m \u001b[49m\u001b[43mhistorical_regression_forecast\u001b[49m\u001b[43m,\u001b[49m\u001b[43m \u001b[49m\u001b[43mbase_mapping\u001b[49m\u001b[43m,\u001b[49m\u001b[43m \u001b[49m\u001b[43mforecast_years\u001b[49m\u001b[43m)\u001b[49m\n\u001b[1;32m      3\u001b[0m result_forecast\n",
      "File \u001b[0;32m~/github/neighbourhood-market-expansion/expertForecastFunctionsCopy1.py:337\u001b[0m, in \u001b[0;36mratio_forecast_regression\u001b[0;34m(df, historical_regression_forecast, base_mapping, forecast_years)\u001b[0m\n\u001b[1;32m    333\u001b[0m historical_ratios \u001b[38;5;241m=\u001b[39m pd\u001b[38;5;241m.\u001b[39mDataFrame\u001b[38;5;241m.\u001b[39mfrom_dict(historical_ratios)\u001b[38;5;241m.\u001b[39mdropna(axis\u001b[38;5;241m=\u001b[39m\u001b[38;5;124m'\u001b[39m\u001b[38;5;124mcolumns\u001b[39m\u001b[38;5;124m'\u001b[39m)\n\u001b[1;32m    335\u001b[0m forecasts, projected_ratios \u001b[38;5;241m=\u001b[39m calculate_forecasts(historical_ratios, forecast_years, future_bases, base_mapping)\n\u001b[0;32m--> 337\u001b[0m result_forecast \u001b[38;5;241m=\u001b[39m pd\u001b[38;5;241m.\u001b[39mDataFrame([{\u001b[38;5;124m'\u001b[39m\u001b[38;5;124mFinancial Metric\u001b[39m\u001b[38;5;124m'\u001b[39m: metric, \u001b[38;5;124m'\u001b[39m\u001b[38;5;124mYear\u001b[39m\u001b[38;5;124m'\u001b[39m: year, \u001b[38;5;124m'\u001b[39m\u001b[38;5;124mValue\u001b[39m\u001b[38;5;124m'\u001b[39m: value}\n\u001b[1;32m    338\u001b[0m                                 \u001b[38;5;28;01mfor\u001b[39;00m (metric, year), value \u001b[38;5;129;01min\u001b[39;00m forecasts\u001b[38;5;241m.\u001b[39mitems()])\u001b[38;5;241m.\u001b[39mpivot(\n\u001b[1;32m    339\u001b[0m     index\u001b[38;5;241m=\u001b[39m\u001b[38;5;124m'\u001b[39m\u001b[38;5;124mFinancial Metric\u001b[39m\u001b[38;5;124m'\u001b[39m, columns\u001b[38;5;241m=\u001b[39m\u001b[38;5;124m'\u001b[39m\u001b[38;5;124mYear\u001b[39m\u001b[38;5;124m'\u001b[39m, values\u001b[38;5;241m=\u001b[39m\u001b[38;5;124m'\u001b[39m\u001b[38;5;124mValue\u001b[39m\u001b[38;5;124m'\u001b[39m)\n\u001b[1;32m    340\u001b[0m result_percentages \u001b[38;5;241m=\u001b[39m pd\u001b[38;5;241m.\u001b[39mDataFrame([{\u001b[38;5;124m'\u001b[39m\u001b[38;5;124mFinancial Metric\u001b[39m\u001b[38;5;124m'\u001b[39m: metric, \u001b[38;5;124m'\u001b[39m\u001b[38;5;124mYear\u001b[39m\u001b[38;5;124m'\u001b[39m: year, \u001b[38;5;124m'\u001b[39m\u001b[38;5;124mValue\u001b[39m\u001b[38;5;124m'\u001b[39m: value}\n\u001b[1;32m    341\u001b[0m                                    \u001b[38;5;28;01mfor\u001b[39;00m metric, year, value \u001b[38;5;129;01min\u001b[39;00m projected_ratios\u001b[38;5;241m.\u001b[39mitems()])\u001b[38;5;241m.\u001b[39mpivot(\n\u001b[1;32m    342\u001b[0m     index\u001b[38;5;241m=\u001b[39m\u001b[38;5;124m'\u001b[39m\u001b[38;5;124mFinancial Metric\u001b[39m\u001b[38;5;124m'\u001b[39m, columns\u001b[38;5;241m=\u001b[39m\u001b[38;5;124m'\u001b[39m\u001b[38;5;124mYear\u001b[39m\u001b[38;5;124m'\u001b[39m, values\u001b[38;5;241m=\u001b[39m\u001b[38;5;124m'\u001b[39m\u001b[38;5;124mValue\u001b[39m\u001b[38;5;124m'\u001b[39m) \u001b[38;5;241m*\u001b[39m \u001b[38;5;241m100\u001b[39m\n\u001b[1;32m    344\u001b[0m \u001b[38;5;28;01mreturn\u001b[39;00m result_forecast, result_percentages\n",
      "File \u001b[0;32m~/github/neighbourhood-market-expansion/expertForecastFunctionsCopy1.py:338\u001b[0m, in \u001b[0;36m<listcomp>\u001b[0;34m(.0)\u001b[0m\n\u001b[1;32m    333\u001b[0m historical_ratios \u001b[38;5;241m=\u001b[39m pd\u001b[38;5;241m.\u001b[39mDataFrame\u001b[38;5;241m.\u001b[39mfrom_dict(historical_ratios)\u001b[38;5;241m.\u001b[39mdropna(axis\u001b[38;5;241m=\u001b[39m\u001b[38;5;124m'\u001b[39m\u001b[38;5;124mcolumns\u001b[39m\u001b[38;5;124m'\u001b[39m)\n\u001b[1;32m    335\u001b[0m forecasts, projected_ratios \u001b[38;5;241m=\u001b[39m calculate_forecasts(historical_ratios, forecast_years, future_bases, base_mapping)\n\u001b[1;32m    337\u001b[0m result_forecast \u001b[38;5;241m=\u001b[39m pd\u001b[38;5;241m.\u001b[39mDataFrame([{\u001b[38;5;124m'\u001b[39m\u001b[38;5;124mFinancial Metric\u001b[39m\u001b[38;5;124m'\u001b[39m: metric, \u001b[38;5;124m'\u001b[39m\u001b[38;5;124mYear\u001b[39m\u001b[38;5;124m'\u001b[39m: year, \u001b[38;5;124m'\u001b[39m\u001b[38;5;124mValue\u001b[39m\u001b[38;5;124m'\u001b[39m: value}\n\u001b[0;32m--> 338\u001b[0m                                 \u001b[38;5;28;01mfor\u001b[39;00m (metric, year), value \u001b[38;5;129;01min\u001b[39;00m forecasts\u001b[38;5;241m.\u001b[39mitems()])\u001b[38;5;241m.\u001b[39mpivot(\n\u001b[1;32m    339\u001b[0m     index\u001b[38;5;241m=\u001b[39m\u001b[38;5;124m'\u001b[39m\u001b[38;5;124mFinancial Metric\u001b[39m\u001b[38;5;124m'\u001b[39m, columns\u001b[38;5;241m=\u001b[39m\u001b[38;5;124m'\u001b[39m\u001b[38;5;124mYear\u001b[39m\u001b[38;5;124m'\u001b[39m, values\u001b[38;5;241m=\u001b[39m\u001b[38;5;124m'\u001b[39m\u001b[38;5;124mValue\u001b[39m\u001b[38;5;124m'\u001b[39m)\n\u001b[1;32m    340\u001b[0m result_percentages \u001b[38;5;241m=\u001b[39m pd\u001b[38;5;241m.\u001b[39mDataFrame([{\u001b[38;5;124m'\u001b[39m\u001b[38;5;124mFinancial Metric\u001b[39m\u001b[38;5;124m'\u001b[39m: metric, \u001b[38;5;124m'\u001b[39m\u001b[38;5;124mYear\u001b[39m\u001b[38;5;124m'\u001b[39m: year, \u001b[38;5;124m'\u001b[39m\u001b[38;5;124mValue\u001b[39m\u001b[38;5;124m'\u001b[39m: value}\n\u001b[1;32m    341\u001b[0m                                    \u001b[38;5;28;01mfor\u001b[39;00m metric, year, value \u001b[38;5;129;01min\u001b[39;00m projected_ratios\u001b[38;5;241m.\u001b[39mitems()])\u001b[38;5;241m.\u001b[39mpivot(\n\u001b[1;32m    342\u001b[0m     index\u001b[38;5;241m=\u001b[39m\u001b[38;5;124m'\u001b[39m\u001b[38;5;124mFinancial Metric\u001b[39m\u001b[38;5;124m'\u001b[39m, columns\u001b[38;5;241m=\u001b[39m\u001b[38;5;124m'\u001b[39m\u001b[38;5;124mYear\u001b[39m\u001b[38;5;124m'\u001b[39m, values\u001b[38;5;241m=\u001b[39m\u001b[38;5;124m'\u001b[39m\u001b[38;5;124mValue\u001b[39m\u001b[38;5;124m'\u001b[39m) \u001b[38;5;241m*\u001b[39m \u001b[38;5;241m100\u001b[39m\n\u001b[1;32m    344\u001b[0m \u001b[38;5;28;01mreturn\u001b[39;00m result_forecast, result_percentages\n",
      "\u001b[0;31mValueError\u001b[0m: too many values to unpack (expected 2)"
     ]
    }
   ],
   "source": [
    "\n",
    "result_forecast, result_percentages = ff.ratio_forecast_regression(financial_data, historical_regression_forecast, base_mapping, forecast_years)\n",
    "\n",
    "result_forecast"
   ]
  },
  {
   "cell_type": "code",
   "execution_count": null,
   "id": "f7d00131-a2c3-41fc-a02e-0ae2375f9c84",
   "metadata": {},
   "outputs": [],
   "source": [
    "historical_regression_forecast.index"
   ]
  },
  {
   "cell_type": "code",
   "execution_count": null,
   "id": "f337c0be-5703-4ce3-aad7-4183b249229a",
   "metadata": {},
   "outputs": [],
   "source": []
  },
  {
   "cell_type": "code",
   "execution_count": null,
   "id": "4df60663-4210-4afb-9af7-35d5b33a4829",
   "metadata": {},
   "outputs": [],
   "source": [
    "int(''.join(filter(str.isdigit, '2022F'))) - int(base_year)"
   ]
  },
  {
   "cell_type": "code",
   "execution_count": null,
   "id": "331dc272-9315-41a0-a799-530b6ce5749a",
   "metadata": {},
   "outputs": [],
   "source": [
    "def five_year_forecast_financials(df, assumptions, base_year, forecast_years):\n",
    "    \"\"\"\n",
    "    Generates financial forecasts based on provided assumptions and historical data.\n",
    "\n",
    "    Parameters:\n",
    "        df (DataFrame): Historical financial data.\n",
    "        assumptions (dict): Growth assumptions for various financial metrics.\n",
    "        base_year (str): The base year for the forecast (last historical year).\n",
    "        forecast_years (list): List of years for which the forecast is to be made.\n",
    "        \n",
    "    Returns:\n",
    "        DataFrame: Forecasted financials including CAGR for the forecast period.\n",
    "    \"\"\"\n",
    "    \n",
    "    forecast_df = pd.DataFrame(index=df.index, columns=forecast_years)\n",
    "    last_values = df[base_year].copy()\n",
    "\n",
    "    for year in forecast_years:\n",
    "        for metric in last_values.index\n",
    "            if metric in assumptions.items():\n",
    "                for values in assumptions.items(metric):\n",
    "                    base_value = last_values.get(metric, None)\n",
    "                        if base_value is not None:\n",
    "                            growth_rate = values['rates'][int(''.join(filter(str.isdigit, year))) - int(base_year) - 1]\n",
    "                            forecast_value = base_value * (1 + growth_rate)\n",
    "                            forecast_df.loc[metric, year] = forecast_value\n",
    "                            last_values[metric] = forecast_value\n",
    "            else: \n",
    "                growth_rate = \n",
    "    calculate_cagr(df, forecast_df, base_year, forecast_years)  # Calculate CAGR and add as a column\n",
    "\n",
    "    return forecast_df\n",
    "\n",
    "\n",
    "def calculate_historical_cagr(df, base_year, period):\n",
    "    \"\"\"\n",
    "    Calculates the compound annual growth rate (CAGR) for forecasted data.\n",
    "\n",
    "    Args:\n",
    "        df (DataFrame): The DataFrame with forecast data.\n",
    "        forecast_years (list): List of forecast years.\n",
    "    \"\"\"\n",
    "    start_year, end_year = base_year-period, base_year\n",
    "    cagr_df = pd.DataFrame(index=df.index, columns=np.arange(s,b,1)\n",
    "    start_year, end_year = base_year-period, base_year\n",
    "    num_years = period\n",
    "    df['CAGR'] = ((df[end_year] / df[start_year]) ** (1 / num_years) - 1).fillna(0) * 100\n",
    "\n",
    "\n",
    "def calculate_cagr(df, forecast_df, base_year, forecast_years, ):\n",
    "    \"\"\"\n",
    "    Calculates the compound annual growth rate (CAGR) for forecasted data.\n",
    "\n",
    "    Args:\n",
    "        df (DataFrame): The DataFrame with forecast data.\n",
    "        forecast_years (list): List of forecast years.\n",
    "    \"\"\"\n",
    "    start_year, end_year = base_year, forecast_years[-1]\n",
    "    num_years = len(forecast_years)\n",
    "    forecast_df['CAGR'] = ((forecast_df[end_year] / df[start_year]) ** (1 / num_years) - 1).fillna(0) * 100\n"
   ]
  },
  {
   "cell_type": "code",
   "execution_count": null,
   "id": "c3206787-17d7-4c7f-941c-6abfcc9d89ef",
   "metadata": {},
   "outputs": [],
   "source": [
    "import pandas as pd\n",
    "\n",
    "def forecast_financials(df, assumptions, base_year, forecast_years, cagr_period=5):\n",
    "    \"\"\"\n",
    "    Generates financial forecasts based on provided assumptions, historical data,\n",
    "    and rolling CAGR calculations.\n",
    "\n",
    "    Parameters:\n",
    "        df (DataFrame): Historical and forecasted financial data.\n",
    "        assumptions (dict): Explicit growth assumptions for various financial metrics.\n",
    "        base_year (str): The base year for the forecast (last historical year).\n",
    "        forecast_years (list): List of years for which the forecast is to be made.\n",
    "        cagr_period (int): The number of years to use for rolling CAGR calculation.\n",
    "        \n",
    "    Returns:\n",
    "        DataFrame: Forecasted financials including dynamic CAGR for the forecast period.\n",
    "    \"\"\"\n",
    "    \n",
    "    forecast_df = pd.DataFrame(index=df.index, columns=forecast_years)\n",
    "    last_values = df[base_year].copy()\n",
    "\n",
    "    for year_index, year in enumerate(forecast_years):\n",
    "        # Determine the number of years to look back for CAGR calculation\n",
    "        start_year = max(int(base_year) - (cagr_period - min(year_index + 1, cagr_period)), int(base_year))\n",
    "        end_year = int(base_year) + year_index\n",
    "\n",
    "        for metric in df.index:\n",
    "            if metric in assumptions and year_index < len(assumptions[metric]['rates']):\n",
    "                # Use explicit growth rate if available\n",
    "                growth_rate = assumptions[metric]['rates'][year_index]\n",
    "            else:\n",
    "                # Calculate rolling CAGR if not under explicit assumptions or past the available rates\n",
    "                start_value = df.loc[metric, str(start_year)]\n",
    "                end_value = df.loc[metric, str(end_year)]\n",
    "                growth_rate = (end_value / start_value) ** (1 / (end_year - start_year)) - 1 if start_value != 0 else 0\n",
    "            \n",
    "            # Calculate forecast value\n",
    "            base_value = last_values.get(metric, 0)\n",
    "            forecast_value = base_value * (1 + growth_rate)\n",
    "            forecast_df.loc[metric, year] = forecast_value\n",
    "            last_values[metric] = forecast_value\n",
    "\n",
    "    # Calculate CAGR for the entire forecast period and add as a column\n",
    "    calculate_cagr(df, forecast_df, base_year, forecast_years)\n",
    "\n",
    "    return forecast_df\n",
    "\n",
    "def calculate_cagr(df, forecast_df, base_year, forecast_years):\n",
    "    \"\"\"\n",
    "    Calculates the compound annual growth rate (CAGR) for forecasted data.\n",
    "\n",
    "    Args:\n",
    "        df (DataFrame): The DataFrame with historical data.\n",
    "        forecast_df (DataFrame): The DataFrame with forecast data.\n",
    "        base_year (str): The starting year for historical data.\n",
    "        forecast_years (list): List of forecast years.\n",
    "    \"\"\"\n",
    "    start_year, end_year = base_year, forecast_years[-1]\n",
    "    num_years = len(forecast_years)\n",
    "    forecast_df['CAGR'] = ((forecast_df[end_year] / df[start_year]) ** (1 / num_years) - 1).fillna(0) * 100\n",
    "\n"
   ]
  },
  {
   "cell_type": "code",
   "execution_count": null,
   "id": "9f6e764d-bed7-43db-96a2-0e0e462a0ff4",
   "metadata": {},
   "outputs": [],
   "source": []
  }
 ],
 "metadata": {
  "kernelspec": {
   "display_name": "Python (myenv)",
   "language": "python",
   "name": "myenv"
  },
  "language_info": {
   "codemirror_mode": {
    "name": "ipython",
    "version": 3
   },
   "file_extension": ".py",
   "mimetype": "text/x-python",
   "name": "python",
   "nbconvert_exporter": "python",
   "pygments_lexer": "ipython3",
   "version": "3.8.19"
  }
 },
 "nbformat": 4,
 "nbformat_minor": 5
}
