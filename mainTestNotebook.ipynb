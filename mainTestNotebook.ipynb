{
 "cells": [
  {
   "cell_type": "code",
   "execution_count": 1,
   "id": "2ada25ec-67e4-4d83-842d-571535e1948d",
   "metadata": {},
   "outputs": [],
   "source": [
    "import NeighborhoodMarketExpansionModel as ngb\n",
    "import expertForecastFunctionsCopy1 as ff\n",
    "import regularModelFunctions as rmf\n",
    "import visitorFunctions as vf\n",
    "from regression_function import *\n",
    "from financials_clean_year_assign import *\n",
    "from improved_find_data_start_row import *\n",
    "\n",
    "import numpy as np\n"
   ]
  },
  {
   "cell_type": "code",
   "execution_count": 2,
   "id": "109c10f6-52f3-47ee-a10e-e4268f181924",
   "metadata": {},
   "outputs": [],
   "source": [
    "walmartPath=\"/Users/myself/Desktop/Walmart USA Searching for Growth/\"\n",
    "\n",
    "financial_data=improved_load_excel_with_autodetect(\"/Users/myself/Desktop/Walmart USA Searching for Growth/walmartHistoricalFinancials.xlsx\")\n",
    "financial_data=clean_cashflow_data(financial_data, 3)\n",
    "financial_data=update_column_names(financial_data, base_year=2021,index_name = 'Financial Metric')\n",
    "\n",
    "cashflow_data=pd.read_excel(walmartPath+\"walmartCashFlow.xlsx\",skiprows=15)\n",
    "cashflow_data=clean_cashflow_data(cashflow_data, 10)\n",
    "cashflow_data=update_column_names(cashflow_data, base_year=2022,index_name = 'Cash Metric')\n",
    "cashflow_pivot=pivot_year_columns_to_rows(cashflow_data,'Cash Metric')\n",
    "cashflow_pivot=cashflow_pivot/1000\n",
    "\n",
    "statement_pivot=pivot_year_columns_to_rows(financial_data)\n",
    "statement_pivot=statement_pivot/1000\n",
    "\n",
    "store_count=pd.read_excel(walmartPath+\"walmartCashFlow.xlsx\", \"Yearly Store Count by Type\",skiprows=2)\n",
    "store_count=clean_cashflow_data(store_count, 10)\n",
    "store_pivot=pivot_year_columns_to_rows(store_count,'Year')\n",
    "store_pivot.rename(columns={\"Total\":\"Total Store\"},inplace=True)\n",
    "\n",
    "\n",
    "distribution_count=pd.read_excel(walmartPath+\"walmartCashFlow.xlsx\", \"Yearly DC\", skiprows=1)\n",
    "distribution_count.rename(columns={\"Total\":\"Total DC\",\"Total.1\":\"Total SqFt\"},inplace=True)\n",
    "dist_pivot=distribution_count.pivot_table(index='Year')\n",
    "dist_pivot.index=dist_pivot.index.astype(str)\n",
    "dist_pivot['Total SqFt Thousands'] = dist_pivot['Total SqFt']/1000\n",
    "\n",
    "\n",
    "merge_data_left = pd.merge(cashflow_pivot, store_pivot, on='Year', how='left')\n",
    "merge_data_left = pd.merge(merge_data_left, dist_pivot ,on='Year',how='left')\n",
    "merge_data_left = pd.merge(merge_data_left, statement_pivot ,on='Year',how='left')\n",
    "\n",
    "\n",
    "\n",
    "merge_left_numeric = merge_data_left.apply(pd.to_numeric, errors='coerce')\n",
    "merge_left_numeric.index = pd.to_datetime(merge_left_numeric.index, format='%Y', errors='coerce')\n",
    "merge_left_numeric.interpolate(method='linear', fill_value=\"extrapolate\", limit_direction=\"both\",inplace=True)\n",
    "merge_left_numeric.isna().any(axis='columns')\n",
    "\n",
    "\n",
    "model1= perform_ols_regression(merge_left_numeric,['Total SqFt Thousands'], 'Capital Expenditures')\n",
    "model2= perform_ols_regression(merge_left_numeric,['Discount stores','Supercenters','Neighborhood markets','Capital Expenditures'], 'Total SqFt Thousands')\n",
    "\n"
   ]
  },
  {
   "cell_type": "code",
   "execution_count": 3,
   "id": "689c9627-8a4d-418d-a5fc-52cadf386bd2",
   "metadata": {},
   "outputs": [],
   "source": [
    "prob_matrix = np.array([\n",
    "    [0.999, 0.989, 0.966, 0.906, 0.717, 0.496, 0.236],\n",
    "    [0.999, 0.979, 0.941, 0.849, 0.610, 0.387, 0.172],\n",
    "    [0.997, 0.962, 0.899, 0.767, 0.490, 0.288, 0.123],\n",
    "    [0.995, 0.933, 0.834, 0.659, 0.372, 0.206, 0.086],\n",
    "    [0.989, 0.883, 0.739, 0.531, 0.268, 0.142, 0.060],\n",
    "    [0.978, 0.803, 0.615, 0.398, 0.184, 0.096, 0.041]\n",
    "])\n",
    "\n",
    "\n",
    "distances = np.array([0, 1, 2, 3, 4, 5])  # in miles\n",
    "densities = np.array([1, 5, 10, 20, 50, 100, 250])  # thousands of people within a 5-mile radius\n",
    "\n",
    "total_weekly_visits = 167*1e6\n",
    "total_annual_visits = 167*1e6 * 52\n",
    "total_net_sales = 393247*1e6 \n",
    "avg_spend = (393247*1e6) / (8684*1e6)\n",
    "avg_spending_per_visitor = {'Supercenters': 35.0, 'Discount Stores': 28.5, 'Neighborhood Markets': 32.0}\n",
    "\n",
    "# Store-specific data with density eligibility\n",
    "store_data = {\n",
    "    'Supercenters': {'locations': 3573, 'avg_sqft': 178000, 'density_eligibility': np.array([1, .8, .8, .8, 0.3, 0, 0])},\n",
    "    'Discount Stores': {'locations': 370, 'avg_sqft': 105000, 'density_eligibility': np.array([0, .2, .2, .2, 0, 0, 0])},\n",
    "    'Neighborhood Markets': {'locations': 799, 'avg_sqft': 42000, 'density_eligibility': np.array([0, 0, 0, 0, 0.7, 1, 1])}\n",
    "}\n",
    "\n",
    "market_conditions={'community_opposition': 0.5, 'cannibalization_rate': 0.01, 'ecommerce_growth_factor': 0.03}"
   ]
  },
  {
   "cell_type": "code",
   "execution_count": 4,
   "id": "cbdef9f8-245c-434c-9ac3-df70f78ae286",
   "metadata": {},
   "outputs": [],
   "source": [
    "\n",
    "\n",
    "forecast_years = forecast_years = ['2022F','2023F', '2024F', '2025F', '2026F']\n",
    "financial_data = ff.handle_missing_values(financial_data, model_cols=None)\n",
    "financial_forecast = ff.linear_regression_forecast(financial_data, forecast_years, transform_if_needed=True)\n",
    "\n",
    "curr_finances = financial_data['2021']"
   ]
  },
  {
   "cell_type": "code",
   "execution_count": 5,
   "id": "29f55eed-6207-4579-90f0-f5e4ffed605c",
   "metadata": {},
   "outputs": [],
   "source": [
    "model = ngb.NeighborhoodMarketExpansionModel(\n",
    "        curr_finances = curr_finances,\n",
    "        store_data = store_data,\n",
    "        prob_matrix = prob_matrix,\n",
    "        distances = distances,\n",
    "        densities = densities,\n",
    "        avg_spending_per_visitor = avg_spending_per_visitor,\n",
    "        financial_forecast = financial_forecast,\n",
    "        regression_results = model2,\n",
    "        market_conditions = market_conditions,  # Correctly initializing the market_conditions\n",
    "        visitor_estimates = None)\n",
    "\n",
    "estimated_visitors, visitors_from_each_density, visitors_by_store_type, visitor_results = vf.estimate_visitor_distribution_by_store_type(\n",
    "total_visitors=total_annual_visits, prob_matrix=prob_matrix, distances=distances, densities=densities, store_data=store_data)\n",
    "optimal_visitors = 1200000\n",
    "max_stores = 50 \n"
   ]
  },
  {
   "cell_type": "code",
   "execution_count": 6,
   "id": "6782ba50-3d39-46ad-9f65-ff1986835100",
   "metadata": {},
   "outputs": [
    {
     "data": {
      "text/plain": [
       "{1: (1236586.3879451547, 100),\n",
       " 2: (1235042.5847142618, 100),\n",
       " 3: (1233502.6313667377, 100),\n",
       " 4: (1231966.5135194566, 100),\n",
       " 5: (1230434.2168608503, 100),\n",
       " 6: (1228905.7271504642, 100),\n",
       " 7: (1227381.0302185158, 100),\n",
       " 8: (1225860.1119654567, 100),\n",
       " 9: (1224342.9583615393, 100),\n",
       " 10: (1222829.5554463828, 100),\n",
       " 11: (1221319.8893285478, 100),\n",
       " 12: (1219813.9461851094, 100),\n",
       " 13: (1218311.712261236, 100),\n",
       " 14: (1216813.1738697707, 100),\n",
       " 15: (1215318.3173908154, 100),\n",
       " 16: (1213827.1292713175, 100),\n",
       " 17: (1212339.5960246613, 100),\n",
       " 18: (1210855.7042302615, 100),\n",
       " 19: (1209375.4405331586, 100),\n",
       " 20: (1207898.7916436186, 100),\n",
       " 21: (1206425.7443367362, 100),\n",
       " 22: (1204956.2854520385, 100),\n",
       " 23: (1203490.4018930944, 100),\n",
       " 24: (1202028.0806271248, 100),\n",
       " 25: (1200569.3086846161, 100),\n",
       " 26: (1199114.0731589377, 99.92617276324481)}"
      ]
     },
     "execution_count": 6,
     "metadata": {},
     "output_type": "execute_result"
    }
   ],
   "source": [
    "model.simulate_store_numbers(visitors_by_store_type, optimal_visitors, max_stores, 'Neighborhood Markets')"
   ]
  },
  {
   "cell_type": "code",
   "execution_count": 7,
   "id": "fd4e716a-7b5e-449b-942a-c214984499bf",
   "metadata": {},
   "outputs": [
    {
     "data": {
      "text/plain": [
       "(-100384723.12190421, 66382.50042819873)"
      ]
     },
     "execution_count": 7,
     "metadata": {},
     "output_type": "execute_result"
    }
   ],
   "source": [
    "model.run_monte_carlo_simulations()"
   ]
  },
  {
   "cell_type": "code",
   "execution_count": null,
   "id": "f4b293bc-30a9-4e70-b525-d77cebfdca68",
   "metadata": {},
   "outputs": [],
   "source": [
    "import unittest\n",
    "class TestNeighborhoodMarketExpansionModel(unittest.TestCase):\n",
    "    def setUp(self):\n",
    "        # Setup that will be run before each test method\n",
    "        self.curr_finances = financial_data\n",
    "        self.store_data = {'NeighborhoodMarket': {'locations': 50, 'average_labor_cost': 30000, 'current_distribution_sqft': 50000}}\n",
    "        self.prob_matrix = prob_matrix\n",
    "        self.distances = distances\n",
    "        self.densities = densities\n",
    "        self.avg_spending_per_visitor = {'NeighborhoodMarket': 45.50}\n",
    "        self.financial_forecast = {'Revenue Forecast': 1200000, 'Capital Expenditures Forecast': 200000}\n",
    "        self.regression_results = {'sqft_per_store': 1500, 'cost_per_sqft': 10}\n",
    "        self.market_conditions = {'community_opposition': 0.5, 'cannibalization_rate': 0.01, 'ecommerce_growth_factor': 0.03}\n",
    "\n",
    "        self.model = NeighborhoodMarketExpansionModel(\n",
    "            curr_finances=self.curr_finances,\n",
    "            store_data=self.store_data,\n",
    "            prob_matrix=self.prob_matrix,\n",
    "            distances=self.distances,\n",
    "            densities=self.densities,\n",
    "            avg_spending_per_visitor=self.avg_spending_per_visitor,\n",
    "            financial_forecast=self.financial_forecast,\n",
    "            regression_results=self.regression_results,\n",
    "            market_conditions=self.market_conditions\n",
    "        )\n",
    "\n",
    "    def test_simulate_store_numbers(self):\n",
    "        # Test to ensure that store number simulation stops correctly\n",
    "        visitors_by_store_type = {'NeighborhoodMarket': 1000}\n",
    "        optimal_visitors = 100\n",
    "        max_stores = 20\n",
    "        results = self.model.simulate_store_numbers(visitors_by_store_type, optimal_visitors, max_stores, 'NeighborhoodMarket')\n",
    "        self.assertEqual(len(results), 11)  # Expecting 11 because it should stop adding stores when profitability drops below optimal\n",
    "\n",
    "    def test_estimate_new_distribution_sqft(self):\n",
    "        # Test to ensure correct estimation of new distribution square footage\n",
    "        num_new_stores = 10\n",
    "        current_total_stores = 50\n",
    "        expected_sqft = 1500 * (60) - 50000\n",
    "        actual_sqft = self.model.estimate_new_distribution_sqft(num_new_stores, current_total_stores)\n",
    "        self.assertEqual(actual_sqft, expected_sqft)\n",
    "\n",
    "    def test_adjust_operational_costs(self):\n",
    "        # Test adjustment of operational costs based on market conditions\n",
    "        base_cost = 100000\n",
    "        expected_cost = base_cost * (1 - 0.2 * 0.5)\n",
    "        actual_cost = self.model.adjust_operational_costs(base_cost)\n",
    "        self.assertAlmostEqual(actual_cost, expected_cost)\n"
   ]
  },
  {
   "cell_type": "code",
   "execution_count": null,
   "id": "af1c913b-2e4a-40b2-979c-a4d9ed202268",
   "metadata": {},
   "outputs": [],
   "source": [
    "unittest.main(argv=[''], exit=False)\n"
   ]
  }
 ],
 "metadata": {
  "kernelspec": {
   "display_name": "Python (myenv)",
   "language": "python",
   "name": "myenv"
  },
  "language_info": {
   "codemirror_mode": {
    "name": "ipython",
    "version": 3
   },
   "file_extension": ".py",
   "mimetype": "text/x-python",
   "name": "python",
   "nbconvert_exporter": "python",
   "pygments_lexer": "ipython3",
   "version": "3.8.19"
  }
 },
 "nbformat": 4,
 "nbformat_minor": 5
}
