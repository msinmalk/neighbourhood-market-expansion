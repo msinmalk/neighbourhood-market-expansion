{
 "cells": [
  {
   "cell_type": "code",
   "execution_count": 4,
   "id": "0060bea7-a0c1-4d81-890d-bf571a4a7899",
   "metadata": {},
   "outputs": [
    {
     "name": "stderr",
     "output_type": "stream",
     "text": [
      "Got stderr: Apr 22, 2024 8:59:37 PM org.apache.pdfbox.pdmodel.font.PDType0Font toUnicode\n",
      "WARNING: No Unicode mapping for CID+32 (32) in font AAAAAB+font000000002bd75a8e\n",
      "Apr 22, 2024 8:59:37 PM org.apache.pdfbox.pdmodel.font.PDType0Font toUnicode\n",
      "WARNING: No Unicode mapping for CID+1 (1) in font AAAAAB+font000000002bd75a8e\n",
      "Apr 22, 2024 8:59:37 PM org.apache.pdfbox.pdmodel.font.PDType0Font toUnicode\n",
      "WARNING: No Unicode mapping for CID+63 (63) in font AAAAAB+font000000002bd75a8e\n",
      "Apr 22, 2024 8:59:37 PM org.apache.pdfbox.pdmodel.font.PDType0Font toUnicode\n",
      "WARNING: No Unicode mapping for CID+1 (1) in font AAAAAC+font000000002bd75a8e\n",
      "Apr 22, 2024 8:59:37 PM org.apache.pdfbox.pdmodel.font.PDType0Font toUnicode\n",
      "WARNING: No Unicode mapping for CID+64 (64) in font AAAAAC+font000000002bd75a8e\n",
      "Apr 22, 2024 8:59:37 PM org.apache.pdfbox.pdmodel.font.PDType0Font toUnicode\n",
      "WARNING: No Unicode mapping for CID+65 (65) in font AAAAAC+font000000002bd75a8e\n",
      "Apr 22, 2024 8:59:37 PM org.apache.pdfbox.pdmodel.font.PDType0Font toUnicode\n",
      "WARNING: No Unicode mapping for CID+66 (66) in font AAAAAC+font000000002bd75a8e\n",
      "Apr 22, 2024 8:59:37 PM org.apache.pdfbox.pdmodel.font.PDType0Font toUnicode\n",
      "WARNING: No Unicode mapping for CID+6 (6) in font AAAAAC+font000000002bd75a8e\n",
      "Apr 22, 2024 8:59:37 PM org.apache.pdfbox.pdmodel.font.PDType0Font toUnicode\n",
      "WARNING: No Unicode mapping for CID+67 (67) in font AAAAAC+font000000002bd75a8e\n",
      "Apr 22, 2024 8:59:37 PM org.apache.pdfbox.pdmodel.font.PDType0Font toUnicode\n",
      "WARNING: No Unicode mapping for CID+61 (61) in font AAAAAB+font000000002bd75a8e\n",
      "Apr 22, 2024 8:59:37 PM org.apache.pdfbox.pdmodel.font.PDType0Font toUnicode\n",
      "WARNING: No Unicode mapping for CID+62 (62) in font AAAAAB+font000000002bd75a8e\n",
      "Apr 22, 2024 8:59:37 PM org.apache.pdfbox.pdmodel.font.PDType0Font toUnicode\n",
      "WARNING: No Unicode mapping for CID+67 (67) in font AAAAAB+font000000002bd75a8e\n",
      "Apr 22, 2024 8:59:37 PM org.apache.pdfbox.pdmodel.font.PDType0Font toUnicode\n",
      "WARNING: No Unicode mapping for CID+64 (64) in font AAAAAB+font000000002bd75a8e\n",
      "Apr 22, 2024 8:59:37 PM org.apache.pdfbox.pdmodel.font.PDType0Font toUnicode\n",
      "WARNING: No Unicode mapping for CID+65 (65) in font AAAAAB+font000000002bd75a8e\n",
      "Apr 22, 2024 8:59:37 PM org.apache.pdfbox.pdmodel.font.PDType0Font toUnicode\n",
      "WARNING: No Unicode mapping for CID+30 (30) in font AAAAAB+font000000002bd75a8e\n",
      "Apr 22, 2024 8:59:37 PM org.apache.pdfbox.pdmodel.font.PDType0Font toUnicode\n",
      "WARNING: No Unicode mapping for CID+63 (63) in font AAAAAC+font000000002bd75a8e\n",
      "Apr 22, 2024 8:59:37 PM org.apache.pdfbox.pdmodel.font.PDType0Font toUnicode\n",
      "WARNING: No Unicode mapping for CID+32 (32) in font AAAAAC+font000000002bd75a8e\n",
      "Apr 22, 2024 8:59:37 PM org.apache.pdfbox.pdmodel.font.PDType0Font toUnicode\n",
      "WARNING: No Unicode mapping for CID+33 (33) in font AAAAAC+font000000002bd75a8e\n",
      "Apr 22, 2024 8:59:37 PM org.apache.pdfbox.pdmodel.font.PDType0Font toUnicode\n",
      "WARNING: No Unicode mapping for CID+34 (34) in font AAAAAC+font000000002bd75a8e\n",
      "Apr 22, 2024 8:59:37 PM org.apache.pdfbox.pdmodel.font.PDType0Font toUnicode\n",
      "WARNING: No Unicode mapping for CID+35 (35) in font AAAAAC+font000000002bd75a8e\n",
      "Apr 22, 2024 8:59:37 PM org.apache.pdfbox.pdmodel.font.PDType0Font toUnicode\n",
      "WARNING: No Unicode mapping for CID+4 (4) in font AAAAAD+font000000002bd75a93\n",
      "Apr 22, 2024 8:59:37 PM org.apache.pdfbox.pdmodel.font.PDType0Font toUnicode\n",
      "WARNING: No Unicode mapping for CID+1 (1) in font AAAAAD+font000000002bd75a93\n",
      "Apr 22, 2024 8:59:37 PM org.apache.pdfbox.pdmodel.font.PDType0Font toUnicode\n",
      "WARNING: No Unicode mapping for CID+52 (52) in font AAAAAD+font000000002bd75a93\n",
      "Apr 22, 2024 8:59:37 PM org.apache.pdfbox.pdmodel.font.PDType0Font toUnicode\n",
      "WARNING: No Unicode mapping for CID+35 (35) in font AAAAAD+font000000002bd75a93\n",
      "Apr 22, 2024 8:59:37 PM org.apache.pdfbox.pdmodel.font.PDType0Font toUnicode\n",
      "WARNING: No Unicode mapping for CID+14 (14) in font AAAAAB+font000000002bd75a8e\n",
      "\n"
     ]
    }
   ],
   "source": [
    "import tabula\n",
    "import pandas as pd\n",
    "\n",
    "\n",
    "def pdf_to_excel(pdf_file_path, excel_file_path):\n",
    "    # Read PDF file\n",
    "    tables = tabula.read_pdf(pdf_file_path, pages='all')\n",
    "\n",
    "    # Write each table to a separate sheet in the Excel file\n",
    "    with pd.ExcelWriter(excel_file_path) as writer:\n",
    "        for i, table in enumerate(tables):\n",
    "            table.to_excel(writer, sheet_name=f'Income Statement{i+1}')\n",
    "\n",
    "\n",
    "pdf_to_excel('/Users/myself/Desktop/Walmart USA Serching for Growth/storeCountSqFt.pdf', '/Users/myself/Desktop/Walmart USA Serching for Growth/storeCountSqFt.xlsx')"
   ]
  },
  {
   "cell_type": "code",
   "execution_count": null,
   "id": "ff156bd0-7400-49c9-97c7-9477998ef2f6",
   "metadata": {},
   "outputs": [],
   "source": []
  }
 ],
 "metadata": {
  "kernelspec": {
   "display_name": "Python (myenv)",
   "language": "python",
   "name": "myenv"
  },
  "language_info": {
   "codemirror_mode": {
    "name": "ipython",
    "version": 3
   },
   "file_extension": ".py",
   "mimetype": "text/x-python",
   "name": "python",
   "nbconvert_exporter": "python",
   "pygments_lexer": "ipython3",
   "version": "3.8.19"
  }
 },
 "nbformat": 4,
 "nbformat_minor": 5
}
