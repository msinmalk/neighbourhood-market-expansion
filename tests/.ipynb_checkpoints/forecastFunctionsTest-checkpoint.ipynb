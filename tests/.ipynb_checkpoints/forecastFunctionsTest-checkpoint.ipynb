{
 "cells": [
  {
   "cell_type": "code",
   "execution_count": 1,
   "id": "f43e7e41-2dc7-43ea-b9d2-f4b974a6d7a7",
   "metadata": {},
   "outputs": [],
   "source": [
    "from improved_find_data_start_row import *\n",
    "from financials_clean_year_assign import * \n",
    "import forecastFunctions as ff\n",
    "\n",
    "\n",
    "financial_data=improved_load_excel_with_autodetect(\"/Users/myself/Desktop/Walmart USA Serching for Growth/walmartHistoricalFinancials.xlsx\")"
   ]
  },
  {
   "cell_type": "code",
   "execution_count": 2,
   "id": "4e1eaf6b-0d64-45ab-8805-3f37baf77fe3",
   "metadata": {},
   "outputs": [],
   "source": [
    "financial_data=clean_cashflow_data(financial_data, 3)\n",
    "financial_data=update_column_names(financial_data, base_year=2021,index_name = 'Financial Metric')\n",
    "\n"
   ]
  },
  {
   "cell_type": "code",
   "execution_count": null,
   "id": "7ee05b65-839a-491f-8ebe-3a8685d37c11",
   "metadata": {},
   "outputs": [],
   "source": []
  },
  {
   "cell_type": "code",
   "execution_count": 3,
   "id": "fe4dbafa-be77-4f53-afb5-9c2bd0aa8d8f",
   "metadata": {},
   "outputs": [
    {
     "ename": "TypeError",
     "evalue": "'NoneType' object is not subscriptable",
     "output_type": "error",
     "traceback": [
      "\u001b[0;31m---------------------------------------------------------------------------\u001b[0m",
      "\u001b[0;31mTypeError\u001b[0m                                 Traceback (most recent call last)",
      "Cell \u001b[0;32mIn[3], line 13\u001b[0m\n\u001b[1;32m      9\u001b[0m base_year \u001b[38;5;241m=\u001b[39m \u001b[38;5;124m'\u001b[39m\u001b[38;5;124m2021\u001b[39m\u001b[38;5;124m'\u001b[39m\n\u001b[1;32m     10\u001b[0m forecast_years \u001b[38;5;241m=\u001b[39m [\u001b[38;5;124m'\u001b[39m\u001b[38;5;124m2022F\u001b[39m\u001b[38;5;124m'\u001b[39m,\u001b[38;5;124m'\u001b[39m\u001b[38;5;124m2023F\u001b[39m\u001b[38;5;124m'\u001b[39m, \u001b[38;5;124m'\u001b[39m\u001b[38;5;124m2024F\u001b[39m\u001b[38;5;124m'\u001b[39m, \u001b[38;5;124m'\u001b[39m\u001b[38;5;124m2025F\u001b[39m\u001b[38;5;124m'\u001b[39m, \u001b[38;5;124m'\u001b[39m\u001b[38;5;124m2026F\u001b[39m\u001b[38;5;124m'\u001b[39m, \u001b[38;5;124m'\u001b[39m\u001b[38;5;124m2027F\u001b[39m\u001b[38;5;124m'\u001b[39m]\n\u001b[0;32m---> 13\u001b[0m yoy_forecast_df \u001b[38;5;241m=\u001b[39m \u001b[43mff\u001b[49m\u001b[38;5;241;43m.\u001b[39;49m\u001b[43mforecast_financials\u001b[49m\u001b[43m(\u001b[49m\u001b[43mfinancial_data\u001b[49m\u001b[43m,\u001b[49m\u001b[43m \u001b[49m\u001b[43massumptions\u001b[49m\u001b[43m,\u001b[49m\u001b[43m \u001b[49m\u001b[43mbase_year\u001b[49m\u001b[43m,\u001b[49m\u001b[43m \u001b[49m\u001b[43mforecast_years\u001b[49m\u001b[43m)\u001b[49m\n\u001b[1;32m     15\u001b[0m financial_data \u001b[38;5;241m=\u001b[39m ff\u001b[38;5;241m.\u001b[39mhandle_missing_values(financial_data)\n",
      "File \u001b[0;32m~/github/neighbourhood-market-expansion/expertForecastFunctions.py:74\u001b[0m, in \u001b[0;36mforecast_financials\u001b[0;34m(df, assumptions, base_year, forecast_years)\u001b[0m\n\u001b[1;32m     72\u001b[0m base_value \u001b[38;5;241m=\u001b[39m last_values\u001b[38;5;241m.\u001b[39mget(metric, \u001b[38;5;28;01mNone\u001b[39;00m)\n\u001b[1;32m     73\u001b[0m \u001b[38;5;28;01mif\u001b[39;00m base_value \u001b[38;5;129;01mis\u001b[39;00m \u001b[38;5;129;01mnot\u001b[39;00m \u001b[38;5;28;01mNone\u001b[39;00m:\n\u001b[0;32m---> 74\u001b[0m     growth_rate \u001b[38;5;241m=\u001b[39m \u001b[43mvalues\u001b[49m\u001b[43m[\u001b[49m\u001b[38;5;124;43m'\u001b[39;49m\u001b[38;5;124;43mrates\u001b[39;49m\u001b[38;5;124;43m'\u001b[39;49m\u001b[43m]\u001b[49m\u001b[43m[\u001b[49m\u001b[38;5;28;43mint\u001b[39;49m\u001b[43m(\u001b[49m\u001b[38;5;124;43m'\u001b[39;49m\u001b[38;5;124;43m'\u001b[39;49m\u001b[38;5;241;43m.\u001b[39;49m\u001b[43mjoin\u001b[49m\u001b[43m(\u001b[49m\u001b[38;5;28;43mfilter\u001b[39;49m\u001b[43m(\u001b[49m\u001b[38;5;28;43mstr\u001b[39;49m\u001b[38;5;241;43m.\u001b[39;49m\u001b[43misdigit\u001b[49m\u001b[43m,\u001b[49m\u001b[43m \u001b[49m\u001b[43myear\u001b[49m\u001b[43m)\u001b[49m\u001b[43m)\u001b[49m\u001b[43m)\u001b[49m\u001b[43m \u001b[49m\u001b[38;5;241;43m-\u001b[39;49m\u001b[43m \u001b[49m\u001b[38;5;28;43mint\u001b[39;49m\u001b[43m(\u001b[49m\u001b[43mbase_year\u001b[49m\u001b[43m)\u001b[49m\u001b[43m]\u001b[49m\n\u001b[1;32m     75\u001b[0m     forecast_value \u001b[38;5;241m=\u001b[39m base_value \u001b[38;5;241m*\u001b[39m (\u001b[38;5;241m1\u001b[39m \u001b[38;5;241m+\u001b[39m growth_rate)\n\u001b[1;32m     76\u001b[0m     forecast_df\u001b[38;5;241m.\u001b[39mloc[metric, year] \u001b[38;5;241m=\u001b[39m forecast_value\n",
      "\u001b[0;31mTypeError\u001b[0m: 'NoneType' object is not subscriptable"
     ]
    }
   ],
   "source": [
    "categories, base_mapping = ff.base_mapping(financial_data)\n",
    "assumptions = {\n",
    "    'Sales': {'type': 'YOY', 'rates': [0.0814, 0.0392, 0.0261, 0.0244, 0.0237, 0.0238]},\n",
    "    'Costs of goods sold': {'type': '% of revenue', 'rates': [0.7541, 0.7513, 0.7513, 0.7513, 0.7513, 0.7513]},\n",
    "    'Gross profit': {'type': 'direct', 'rates': None},  # Calculated directly as difference\n",
    "    'Operating and SG&A costs': {'type': '% of sales', 'rates': [0.1863, 0.1834, 0.1834, 0.1834, 0.1834, 0.1834]}}\n",
    "\n",
    "# Base year for forecast\n",
    "base_year = '2021'\n",
    "forecast_years = ['2022F','2023F', '2024F', '2025F', '2026F', '2027F']\n",
    "\n",
    "\n",
    "yoy_forecast_df = ff.forecast_financials(financial_data, assumptions, base_year, forecast_years)\n",
    "\n",
    "financial_data = ff.handle_missing_values(financial_data)"
   ]
  },
  {
   "cell_type": "code",
   "execution_count": null,
   "id": "259640c4-0274-4330-9ed0-7d1e3dbbb8a3",
   "metadata": {},
   "outputs": [],
   "source": [
    "historical_regression_forecast = ff.linear_regression_forecast(financial_data, forecast_years)\n",
    "result_forecast, result_percentages = ff.ratio_forecast_regression(financial_data, historical_regression_forecast, base_mapping, forecast_years)\n"
   ]
  },
  {
   "cell_type": "code",
   "execution_count": 5,
   "id": "4df60663-4210-4afb-9af7-35d5b33a4829",
   "metadata": {},
   "outputs": [
    {
     "data": {
      "text/plain": [
       "1"
      ]
     },
     "execution_count": 5,
     "metadata": {},
     "output_type": "execute_result"
    }
   ],
   "source": [
    "int(''.join(filter(str.isdigit, '2022F'))) - int(base_year)"
   ]
  },
  {
   "cell_type": "code",
   "execution_count": null,
   "id": "331dc272-9315-41a0-a799-530b6ce5749a",
   "metadata": {},
   "outputs": [],
   "source": []
  }
 ],
 "metadata": {
  "kernelspec": {
   "display_name": "Python (myenv)",
   "language": "python",
   "name": "myenv"
  },
  "language_info": {
   "codemirror_mode": {
    "name": "ipython",
    "version": 3
   },
   "file_extension": ".py",
   "mimetype": "text/x-python",
   "name": "python",
   "nbconvert_exporter": "python",
   "pygments_lexer": "ipython3",
   "version": "3.8.19"
  }
 },
 "nbformat": 4,
 "nbformat_minor": 5
}
